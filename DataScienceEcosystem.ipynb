{
 "cells": [
  {
   "cell_type": "markdown",
   "id": "bc5dbe16-ad72-42af-be74-13d9634b56c9",
   "metadata": {},
   "source": [
    "<h1>Data Science Tools and Ecosystem</h1>"
   ]
  },
  {
   "cell_type": "markdown",
   "id": "ab48f9db-f0e9-48d8-8740-c22576fe5466",
   "metadata": {},
   "source": [
    "In this notebook, Data Science Tools and Ecosystem are summarized."
   ]
  },
  {
   "cell_type": "markdown",
   "id": "e485e1f8-befc-4497-bc79-f4ee752091e8",
   "metadata": {},
   "source": [
    "<strong>Objectives</strong>\n",
    "<ul>\n",
    "    <li>List common Data Science languages</li>\n",
    "    <li>List common Data Science Libraries</li>\n",
    "    <li>List common Data Science Tools</li>\n",
    "    <li>Introduce basic arithmetic operations in Python</li>\n",
    "</ul>"
   ]
  },
  {
   "cell_type": "markdown",
   "id": "cb8fdcac-4845-4081-b116-a056485bfd7f",
   "metadata": {},
   "source": [
    "Some of the popular languages that Data Scientists use are:\n",
    "\n",
    "<ol>\n",
    "    <li>Python</li>\n",
    "    <li> R</li>\n",
    "    <li> SQL</li>\n",
    "</ol>"
   ]
  },
  {
   "cell_type": "markdown",
   "id": "f2bce25e-d107-4a95-9cce-11bdaa72c8d7",
   "metadata": {},
   "source": [
    "Some of the commonly used libraries used by Data Scientists include:\n",
    "\n",
    "<ol>\n",
    "    <li>TensorFlow</li>\n",
    "    <li>Apache Spark</li>\n",
    "    <li>Pandas</li>\n",
    "</ol>"
   ]
  },
  {
   "cell_type": "markdown",
   "id": "041296f9-7ec2-47de-9163-53fea3587485",
   "metadata": {},
   "source": [
    "<table>\n",
    "    <tr>\n",
    "        <th><h3>Data Science Tools</h3></th>\n",
    "    </tr>\n",
    "    <tr>\n",
    "        <td>Jupyter</td>\n",
    "    </tr>\n",
    "    <tr>\n",
    "        <td>Spyder</td>\n",
    "    </tr>\n",
    "    <tr>\n",
    "        <td>R Studio</td>\n",
    "    </tr>\n",
    "</table>"
   ]
  },
  {
   "cell_type": "markdown",
   "id": "53188314-413e-4e86-9f62-c0bb1d54eefa",
   "metadata": {},
   "source": [
    "<h3>Below are a few examples of evaluating arithmetic expressions in Python</h3>"
   ]
  },
  {
   "cell_type": "code",
   "execution_count": 1,
   "id": "9d5f4395-3345-4106-8c05-dca2b51b391d",
   "metadata": {
    "tags": []
   },
   "outputs": [
    {
     "data": {
      "text/plain": [
       "17"
      ]
     },
     "execution_count": 1,
     "metadata": {},
     "output_type": "execute_result"
    }
   ],
   "source": [
    "# This a simple arithmetic expression to mutiply then add integers\n",
    "(3*4)+5"
   ]
  },
  {
   "cell_type": "code",
   "execution_count": 4,
   "id": "617f864c-676b-4fb8-a284-fbd5f1cdbc09",
   "metadata": {
    "tags": []
   },
   "outputs": [
    {
     "data": {
      "text/plain": [
       "3.3333333333333335"
      ]
     },
     "execution_count": 4,
     "metadata": {},
     "output_type": "execute_result"
    }
   ],
   "source": [
    "# This will convert 200 minutes to hours by dividng by 60\n",
    "200/60"
   ]
  },
  {
   "cell_type": "markdown",
   "id": "103c713f-d382-4b3c-8a37-f7366d38e50b",
   "metadata": {},
   "source": [
    "<h2>Author</h2>\n",
    "Samuel Ajigbotosho."
   ]
  },
  {
   "cell_type": "code",
   "execution_count": null,
   "id": "54b92294-5c58-4f72-b0c2-1750e4512b1f",
   "metadata": {},
   "outputs": [],
   "source": []
  }
 ],
 "metadata": {
  "kernelspec": {
   "display_name": "Python",
   "language": "python",
   "name": "conda-env-python-py"
  },
  "language_info": {
   "codemirror_mode": {
    "name": "ipython",
    "version": 3
   },
   "file_extension": ".py",
   "mimetype": "text/x-python",
   "name": "python",
   "nbconvert_exporter": "python",
   "pygments_lexer": "ipython3",
   "version": "3.7.12"
  }
 },
 "nbformat": 4,
 "nbformat_minor": 5
}
